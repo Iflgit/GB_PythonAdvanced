{
 "cells": [
  {
   "cell_type": "markdown",
   "metadata": {},
   "source": [
    "## Урок 2. Файловое хранение данных"
   ]
  },
  {
   "cell_type": "markdown",
   "metadata": {},
   "source": [
    "### Задание на закрепление знаний по модулю CSV. Написать скрипт, осуществляющий выборку определенных данных из файлов info_1.txt, info_2.txt, info_3.txt и формирующий новый «отчетный» файл в формате CSV. Для этого:"
   ]
  },
  {
   "cell_type": "code",
   "execution_count": 1,
   "metadata": {},
   "outputs": [
    {
     "name": "stdout",
     "output_type": "stream",
     "text": [
      "['info_1.txt', 'info_2.txt', 'info_3.txt', 'orders.json']\n"
     ]
    }
   ],
   "source": [
    "import os\n",
    "print(os.listdir(\"./data2\"))"
   ]
  },
  {
   "cell_type": "code",
   "execution_count": 2,
   "metadata": {},
   "outputs": [
    {
     "name": "stdout",
     "output_type": "stream",
     "text": [
      "Имя узла:                         Comp1\n",
      "Название ОС:                      Microsoft Windows 7 Профессиональная \n",
      "Версия ОС:                        6.1.7601 Service Pack 1 сборка 7601\n",
      "Изготовитель ОС:                  Microsoft Corporation\n",
      "Параметры ОС:                     Рядовая рабочая станция\n",
      "Сборка ОС:                        Multiprocessor Free\n",
      "Зарегистрированный владелец:      User\n",
      "Зарегистрированная организация:   \n",
      "Код продукта:                     00971-OEM-1982661-00231\n",
      "Дата установки:                   11.10.2013, 10:18:05\n",
      "Время работы системы:             0 дн., 4 час., 41 мин, 0 сек.\n",
      "Изготовитель системы:             LENOVO\n",
      "Модель системы:                   3538F2G\n",
      "Тип системы:                      x64-based PC\n",
      "Процессор(ы):                     Число процессоров - 1.\n",
      "                                  [01]: Intel64 Family 6 Model 42 Stepping 7 GenuineIntel ~3400 МГц\n",
      "Версия BIOS:                      LENOVO - 1390\n",
      "Папка Windows:                    C:\\Windows\n",
      "Системная папка:                  C:\\Windows\\system32\n",
      "Устройство загрузки:              \\Device\\HarddiskVolume1\n",
      "Язык системы:                     ru;Русский\n",
      "Язык ввода:                       en-us;Английский (США)\n",
      "Часовой пояс:                     (UTC+04:00) Волгоград, Москва, Санкт-Петербург\n",
      "Полный объем физической памяти:   3 914 МБ\n",
      "Доступная физическая память:      2 299 МБ\n",
      "Виртуальная память: Макс. размер: 7 826 МБ\n",
      "Виртуальная память: доступно:     6 139 МБ\n",
      "Виртуальная память: используется: 1 687 МБ\n",
      "Расположение файла подкачки:      Н/Д\n",
      "Домен:                            net\n",
      "Сервер входа в сеть:              Н/Д\n",
      "Исправление(я):                   Число установленных исправлений - 74.\n",
      "                                  [01]: KB982861\n",
      "                                  [02]: 982861\n",
      ". . .                                   \n",
      "                       [74]: KB982018\n",
      "Неизвестные сетевые адаптеры:     Число сетевых адаптеров - 1.\n",
      "                                  [01]: Realtek PCIe GBE Family Controller\n",
      "                                        Имя подключения: Подключение по локальной сети\n",
      "                                        DHCP включен:    Нет\n",
      "                                        IP-адрес\n",
      "                                        [01]: 192.168.0.4\n",
      "Имя узла:                         Comp1\n",
      "Название ОС:                      Microsoft Windows 10 Professional\n",
      "Версия ОС:                        16299\n",
      "Изготовитель ОС:                  Microsoft Corporation\n",
      "Параметры ОС:                     Рядовая рабочая станция\n",
      "Сборка ОС:                        Multiprocessor Free\n",
      "Зарегистрированный владелец:      User\n",
      "Зарегистрированная организация:   \n",
      "Код продукта:                     00971-OEM-1982661-00231\n",
      "Дата установки:                   11.10.2013, 10:18:05\n",
      "Время работы системы:             0 дн., 4 час., 41 мин, 0 сек.\n",
      "Изготовитель системы:             ACER\n",
      "Модель системы:                   3538F2G\n",
      "Тип системы:                      x64-based PC\n",
      "Процессор(ы):                     Число процессоров - 1.\n",
      "                                  [01]: Intel64 Family 6 Model 42 Stepping 7 GenuineIntel ~3400 МГц\n",
      "Версия BIOS:                      LENOVO - 1390\n",
      "Папка Windows:                    C:\\Windows\n",
      "Системная папка:                  C:\\Windows\\system32\n",
      "Устройство загрузки:              \\Device\\HarddiskVolume1\n",
      "Язык системы:                     ru;Русский\n",
      "Язык ввода:                       en-us;Английский (США)\n",
      "Часовой пояс:                     (UTC+04:00) Волгоград, Москва, Санкт-Петербург\n",
      "Полный объем физической памяти:   3 914 МБ\n",
      "Доступная физическая память:      2 299 МБ\n",
      "Виртуальная память: Макс. размер: 7 826 МБ\n",
      "Виртуальная память: доступно:     6 139 МБ\n",
      "Виртуальная память: используется: 1 687 МБ\n",
      "Расположение файла подкачки:      Н/Д\n",
      "Домен:                            net\n",
      "Сервер входа в сеть:              Н/Д\n",
      "Исправление(я):                   Число установленных исправлений - 74.\n",
      "                                  [01]: KB982861\n",
      "                                  [02]: 982861\n",
      ". . .                                   \n",
      "                       [74]: KB982018\n",
      "Неизвестные сетевые адаптеры:     Число сетевых адаптеров - 1.\n",
      "                                  [01]: Realtek PCIe GBE Family Controller\n",
      "                                        Имя подключения: Подключение по локальной сети\n",
      "                                        DHCP включен:    Нет\n",
      "                                        IP-адрес\n",
      "                                        [01]: 192.168.0.4\n",
      "Имя узла:                         Comp1\n",
      "Название ОС:                      Microsoft Windows 8.1 Professional\n",
      "Версия ОС:                        сборка 10001\n",
      "Изготовитель ОС:                  Microsoft Corporation\n",
      "Параметры ОС:                     Рядовая рабочая станция\n",
      "Сборка ОС:                        Multiprocessor Free\n",
      "Зарегистрированный владелец:      User\n",
      "Зарегистрированная организация:   \n",
      "Код продукта:                     00971-OEM-1982661-00231\n",
      "Дата установки:                   11.10.2013, 10:18:05\n",
      "Время работы системы:             0 дн., 4 час., 41 мин, 0 сек.\n",
      "Изготовитель системы:             DELL\n",
      "Модель системы:                   3538F2G\n",
      "Тип системы:                      x86-based PC\n",
      "Процессор(ы):                     Число процессоров - 1.\n",
      "                                  [01]: Intel64 Family 6 Model 42 Stepping 7 GenuineIntel ~3400 МГц\n",
      "Версия BIOS:                      LENOVO - 1390\n",
      "Папка Windows:                    C:\\Windows\n",
      "Системная папка:                  C:\\Windows\\system32\n",
      "Устройство загрузки:              \\Device\\HarddiskVolume1\n",
      "Язык системы:                     ru;Русский\n",
      "Язык ввода:                       en-us;Английский (США)\n",
      "Часовой пояс:                     (UTC+04:00) Волгоград, Москва, Санкт-Петербург\n",
      "Полный объем физической памяти:   3 914 МБ\n",
      "Доступная физическая память:      2 299 МБ\n",
      "Виртуальная память: Макс. размер: 7 826 МБ\n",
      "Виртуальная память: доступно:     6 139 МБ\n",
      "Виртуальная память: используется: 1 687 МБ\n",
      "Расположение файла подкачки:      Н/Д\n",
      "Домен:                            net\n",
      "Сервер входа в сеть:              Н/Д\n",
      "Исправление(я):                   Число установленных исправлений - 74.\n",
      "                                  [01]: KB982861\n",
      "                                  [02]: 982861\n",
      ". . .                                   \n",
      "                       [74]: KB982018\n",
      "Неизвестные сетевые адаптеры:     Число сетевых адаптеров - 1.\n",
      "                                  [01]: Realtek PCIe GBE Family Controller\n",
      "                                        Имя подключения: Подключение по локальной сети\n",
      "                                        DHCP включен:    Нет\n",
      "                                        IP-адрес\n",
      "                                        [01]: 192.168.0.4\n"
     ]
    }
   ],
   "source": [
    "for i in range(1, 4):\n",
    "    with open(f'./data2/info_{i}.txt') as file:\n",
    "        print(file.read())"
   ]
  },
  {
   "cell_type": "markdown",
   "metadata": {},
   "source": [
    "#### Создать функцию get_data(), в которой в цикле осуществляется перебор файлов с данными, их открытие и считывание данных. В этой функции из считанных данных необходимо с помощью регулярных выражений извлечь значения параметров «Изготовитель системы», «Название ОС», «Код продукта», «Тип системы». Значения каждого параметра поместить в соответствующий список. Должно получиться четыре списка — например, os_prod_list, os_name_list, os_code_list, os_type_list. В этой же функции создать главный список для хранения данных отчета — например, main_data — и поместить в него названия столбцов отчета в виде списка: «Изготовитель системы», «Название ОС», «Код продукта», «Тип системы». Значения для этих столбцов также оформить в виде списка и поместить в файл main_data (также для каждого файла);"
   ]
  },
  {
   "cell_type": "code",
   "execution_count": 3,
   "metadata": {},
   "outputs": [
    {
     "data": {
      "text/plain": [
       "(['Изготовитель системы', 'Название ОС', 'Код продукта', 'Тип системы'],\n",
       " [['LENOVO', 'ACER', 'DELL'],\n",
       "  ['Microsoft Windows 7 Профессиональная',\n",
       "   'Microsoft Windows 10 Professional',\n",
       "   'Microsoft Windows 8.1 Professional'],\n",
       "  ['00971-OEM-1982661-00231',\n",
       "   '00971-OEM-1982661-00231',\n",
       "   '00971-OEM-1982661-00231'],\n",
       "  ['x64-based PC', 'x64-based PC', 'x86-based PC']])"
      ]
     },
     "execution_count": 3,
     "metadata": {},
     "output_type": "execute_result"
    }
   ],
   "source": [
    "import glob\n",
    "import re\n",
    "# from pprint import pprint\n",
    "\n",
    "#os_prod_list, os_name_list, os_code_list, os_type_list = [], [], [], []\n",
    "\n",
    "def get_data():\n",
    "    \n",
    "    params = ['Изготовитель системы', 'Название ОС', 'Код продукта', 'Тип системы']\n",
    "    data_dicts = []\n",
    "    data_lists = [[], [], [], []]\n",
    "    \n",
    "    for file in glob.glob('.\\data2\\info*'):\n",
    "        with open(file, 'r') as data_file:\n",
    "            _data = {}\n",
    "            for line in data_file:\n",
    "                for param in params:\n",
    "                    if re.match(param, line):\n",
    "                        _val = line.split(':')[1].strip()\n",
    "                        _data[param] = _val\n",
    "                        data_lists[params.index(param)].append(_val)\n",
    "            data_dicts.append(_data)\n",
    "    \n",
    "#     with open('.\\data2\\main_data.csv', 'w', encoding='utf-8') as main_data:\n",
    "#         main_data.write(','.join(params) + '\\n')\n",
    "#         for line in list(zip(*data_lists)):\n",
    "#             main_data.write(','.join(line) + '\\n')\n",
    "#     pprint(data_dicts)\n",
    "#     pprint(data_lists)\n",
    "    return params, data_lists\n",
    "    \n",
    "get_data()\n"
   ]
  },
  {
   "cell_type": "markdown",
   "metadata": {},
   "source": [
    "#### Создать функцию write_to_csv(), в которую передавать ссылку на CSV-файл. В этой функции реализовать получение данных через вызов функции get_data(), а также сохранение подготовленных данных в соответствующий CSV-файл;"
   ]
  },
  {
   "cell_type": "code",
   "execution_count": 4,
   "metadata": {},
   "outputs": [],
   "source": [
    "import io\n",
    "\n",
    "def write_to_csv(file_io: io.TextIOWrapper):\n",
    "    \n",
    "    params, data_lists = get_data()\n",
    "    \n",
    "    file_io.write(','.join(params) + '\\n')\n",
    "    for line in list(zip(*data_lists)):\n",
    "        file_io.write(','.join(line) + '\\n')\n"
   ]
  },
  {
   "cell_type": "markdown",
   "metadata": {},
   "source": [
    "#### Проверить работу программы через вызов функции write_to_csv()."
   ]
  },
  {
   "cell_type": "code",
   "execution_count": 5,
   "metadata": {},
   "outputs": [],
   "source": [
    "with open('./data2/main_data.csv', 'w', encoding='utf-8') as file:\n",
    "    write_to_csv(file)"
   ]
  },
  {
   "cell_type": "code",
   "execution_count": 6,
   "metadata": {},
   "outputs": [
    {
     "name": "stdout",
     "output_type": "stream",
     "text": [
      "Изготовитель системы,Название ОС,Код продукта,Тип системы\n",
      "LENOVO,Microsoft Windows 7 Профессиональная,00971-OEM-1982661-00231,x64-based PC\n",
      "ACER,Microsoft Windows 10 Professional,00971-OEM-1982661-00231,x64-based PC\n",
      "DELL,Microsoft Windows 8.1 Professional,00971-OEM-1982661-00231,x86-based PC\n"
     ]
    }
   ],
   "source": [
    "with open('./data2/main_data.csv', encoding='utf-8') as file:\n",
    "    for line in file:\n",
    "        print(line, end='')"
   ]
  },
  {
   "cell_type": "markdown",
   "metadata": {},
   "source": [
    "### Задание на закрепление знаний по модулю json. Есть файл orders в формате JSON с информацией о заказах. Написать скрипт, автоматизирующий его заполнение данными. Для этого:"
   ]
  },
  {
   "cell_type": "code",
   "execution_count": 7,
   "metadata": {},
   "outputs": [
    {
     "name": "stdout",
     "output_type": "stream",
     "text": [
      "{'orders': []}\n"
     ]
    }
   ],
   "source": [
    "import json\n",
    "from pprint import pprint\n",
    "\n",
    "\n",
    "with open('./data2/orders.json') as file:\n",
    "    pprint(json.load(file))"
   ]
  },
  {
   "cell_type": "markdown",
   "metadata": {},
   "source": [
    "#### Создать функцию write_order_to_json(), в которую передается 5 параметров — товар (item), количество (quantity), цена (price), покупатель (buyer), дата (date). Функция должна предусматривать запись данных в виде словаря в файл orders.json. При записи данных указать величину отступа в 4 пробельных символа;"
   ]
  },
  {
   "cell_type": "code",
   "execution_count": 8,
   "metadata": {},
   "outputs": [],
   "source": [
    "def write_order_to_json(item, quantity, price, buyer, date):\n",
    "    with open('./data2/orders.json', encoding='utf-8') as orders_file:\n",
    "        orders = json.loads(orders_file.read())\n",
    "\n",
    "    order = {'item': item, 'quantity': quantity, 'price': price, 'buyer': buyer, 'date': date}\n",
    "    orders['orders'].append(order)\n",
    "\n",
    "    with open('./data2/orders.json', 'w', encoding='utf-8') as orders_file:\n",
    "        json.dump(orders, orders_file, indent=4)"
   ]
  },
  {
   "cell_type": "markdown",
   "metadata": {},
   "source": [
    "#### Проверить работу программы через вызов функции write_order_to_json() с передачей в нее значений каждого параметра."
   ]
  },
  {
   "cell_type": "code",
   "execution_count": 9,
   "metadata": {},
   "outputs": [],
   "source": [
    "write_order_to_json('Toy', '1', '1', 'Mr. Smith', '01-01-2019')"
   ]
  },
  {
   "cell_type": "code",
   "execution_count": 10,
   "metadata": {},
   "outputs": [
    {
     "name": "stdout",
     "output_type": "stream",
     "text": [
      "{\n",
      "    \"orders\": [\n",
      "        {\n",
      "            \"item\": \"Toy\",\n",
      "            \"quantity\": \"1\",\n",
      "            \"price\": \"1\",\n",
      "            \"buyer\": \"Mr. Smith\",\n",
      "            \"date\": \"01-01-2019\"\n",
      "        }\n",
      "    ]\n",
      "}\n"
     ]
    }
   ],
   "source": [
    "with open('./data2/orders.json', encoding='utf-8') as order_file:\n",
    "    print(order_file.read())"
   ]
  },
  {
   "cell_type": "code",
   "execution_count": 11,
   "metadata": {},
   "outputs": [
    {
     "name": "stdout",
     "output_type": "stream",
     "text": [
      "{\n",
      "    \"orders\": [\n",
      "        {\n",
      "            \"item\": \"Toy\",\n",
      "            \"quantity\": \"1\",\n",
      "            \"price\": \"1\",\n",
      "            \"buyer\": \"Mr. Smith\",\n",
      "            \"date\": \"01-01-2019\"\n",
      "        },\n",
      "        {\n",
      "            \"item\": \"Phone\",\n",
      "            \"quantity\": \"1\",\n",
      "            \"price\": \"1000\",\n",
      "            \"buyer\": \"Ms. Smith\",\n",
      "            \"date\": \"31-12-2018\"\n",
      "        }\n",
      "    ]\n",
      "}\n"
     ]
    }
   ],
   "source": [
    "write_order_to_json('Phone', '1', '1000', 'Ms. Smith', '31-12-2018')\n",
    "with open('./data2/orders.json', encoding='utf-8') as order_file:\n",
    "    print(order_file.read())"
   ]
  },
  {
   "cell_type": "markdown",
   "metadata": {},
   "source": [
    "### Задание на закрепление знаний по модулю yaml. Написать скрипт, автоматизирующий сохранение данных в файле YAML-формата. Для этого:"
   ]
  },
  {
   "cell_type": "markdown",
   "metadata": {},
   "source": [
    "#### Подготовить данные для записи в виде словаря, в котором первому ключу соответствует список, второму — целое число, третьему — вложенный словарь, где значение каждого ключа — это целое число с юникод-символом, отсутствующим в кодировке ASCII (например, €);`"
   ]
  },
  {
   "cell_type": "code",
   "execution_count": 12,
   "metadata": {},
   "outputs": [
    {
     "name": "stdout",
     "output_type": "stream",
     "text": [
      "$\n",
      "€\n",
      "₽\n"
     ]
    }
   ],
   "source": [
    "DATA = {\n",
    "    'curency': ['USD', 'EUR', 'RUB'], \n",
    "    'value': 3, \n",
    "    'symbol': {\n",
    "        'USD': ord(u\"\\N{dollar sign}\"), \n",
    "        'EUR': ord(u\"\\N{euro sign}\"), \n",
    "        'RUB': ord(u\"\\N{ruble sign}\")}\n",
    "}\n",
    "for char in (DATA['symbol'].values()):\n",
    "    print(chr(int(char)))"
   ]
  },
  {
   "cell_type": "markdown",
   "metadata": {},
   "source": [
    "#### Реализовать сохранение данных в файл формата YAML — например, в файл file.yaml. При этом обеспечить стилизацию файла с помощью параметра default_flow_style, а также установить возможность работы с юникодом: allow_unicode = True;"
   ]
  },
  {
   "cell_type": "code",
   "execution_count": 13,
   "metadata": {},
   "outputs": [],
   "source": [
    "import yaml\n",
    "with open('./data2/file.yaml', 'w', encoding='utf-8') as file:\n",
    "    yaml.dump(DATA, file, Dumper=yaml.Dumper, allow_unicode=True, default_flow_style=False)"
   ]
  },
  {
   "cell_type": "code",
   "execution_count": 14,
   "metadata": {},
   "outputs": [
    {
     "name": "stdout",
     "output_type": "stream",
     "text": [
      "curency:\n",
      "- USD\n",
      "- EUR\n",
      "- RUB\n",
      "symbol:\n",
      "  EUR: 8364\n",
      "  RUB: 8381\n",
      "  USD: 36\n",
      "value: 3\n",
      "\n"
     ]
    }
   ],
   "source": [
    "with open('./data2/file.yaml') as file:\n",
    "    print(file.read())"
   ]
  },
  {
   "cell_type": "markdown",
   "metadata": {},
   "source": [
    "#### Реализовать считывание данных из созданного файла и проверить, совпадают ли они с исходными."
   ]
  },
  {
   "cell_type": "code",
   "execution_count": 15,
   "metadata": {},
   "outputs": [
    {
     "name": "stdout",
     "output_type": "stream",
     "text": [
      "{'curency': ['USD', 'EUR', 'RUB'],\n",
      " 'symbol': {'EUR': 8364, 'RUB': 8381, 'USD': 36},\n",
      " 'value': 3}\n",
      "{'curency': ['USD', 'EUR', 'RUB'],\n",
      " 'symbol': {'EUR': 8364, 'RUB': 8381, 'USD': 36},\n",
      " 'value': 3}\n"
     ]
    },
    {
     "data": {
      "text/plain": [
       "True"
      ]
     },
     "execution_count": 15,
     "metadata": {},
     "output_type": "execute_result"
    }
   ],
   "source": [
    "import pprint\n",
    "\n",
    "with open('./data2/file.yaml') as file:\n",
    "    data = yaml.load(file, Loader=yaml.Loader)\n",
    "\n",
    "pprint.pprint(data)    \n",
    "pprint.pprint(DATA)\n",
    "data==DATA"
   ]
  },
  {
   "cell_type": "code",
   "execution_count": null,
   "metadata": {},
   "outputs": [],
   "source": []
  }
 ],
 "metadata": {
  "kernelspec": {
   "display_name": "Python 3",
   "language": "python",
   "name": "python3"
  },
  "language_info": {
   "codemirror_mode": {
    "name": "ipython",
    "version": 3
   },
   "file_extension": ".py",
   "mimetype": "text/x-python",
   "name": "python",
   "nbconvert_exporter": "python",
   "pygments_lexer": "ipython3",
   "version": "3.7.3"
  }
 },
 "nbformat": 4,
 "nbformat_minor": 2
}
