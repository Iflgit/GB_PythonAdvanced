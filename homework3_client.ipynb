{
 "cells": [
  {
   "cell_type": "code",
   "execution_count": 4,
   "metadata": {},
   "outputs": [],
   "source": [
    "import socket"
   ]
  },
  {
   "cell_type": "code",
   "execution_count": 5,
   "metadata": {},
   "outputs": [],
   "source": [
    "config = {\n",
    "    'host': 'localhost',\n",
    "    'port': 8765,\n",
    "    'buffersize': 256\n",
    "}"
   ]
  },
  {
   "cell_type": "code",
   "execution_count": 7,
   "metadata": {},
   "outputs": [
    {
     "name": "stdout",
     "output_type": "stream",
     "text": [
      "Client loaded.\n",
      "Enter message: 123\n",
      "Sending data to server: /123/\n",
      "REcived message from server: /ECHO /123/ OK/\n"
     ]
    }
   ],
   "source": [
    "try:\n",
    "    client_socket = socket.socket()\n",
    "    client_socket.connect((config.get('host'), config.get('port')))\n",
    "    print('Client loaded.')\n",
    "    \n",
    "    message = input('Enter message: ')\n",
    "    \n",
    "    client_socket.send(message.encode())\n",
    "    print(f'Sending data to server: /{message}/')\n",
    "    \n",
    "    response = client_socket.recv(config.get('buffersize')).decode()\n",
    "    print(f'REcived message from server: /{response}/')\n",
    "except KeyboardInterrupt:\n",
    "    print('Client is shutting down...')"
   ]
  },
  {
   "cell_type": "code",
   "execution_count": null,
   "metadata": {},
   "outputs": [],
   "source": []
  }
 ],
 "metadata": {
  "kernelspec": {
   "display_name": "Python 3",
   "language": "python",
   "name": "python3"
  },
  "language_info": {
   "codemirror_mode": {
    "name": "ipython",
    "version": 3
   },
   "file_extension": ".py",
   "mimetype": "text/x-python",
   "name": "python",
   "nbconvert_exporter": "python",
   "pygments_lexer": "ipython3",
   "version": "3.7.3"
  }
 },
 "nbformat": 4,
 "nbformat_minor": 2
}
