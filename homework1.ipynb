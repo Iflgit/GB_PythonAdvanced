{
 "cells": [
  {
   "cell_type": "markdown",
   "metadata": {},
   "source": [
    "### Практическое задание"
   ]
  },
  {
   "cell_type": "markdown",
   "metadata": {},
   "source": [
    "#### Каждое из слов «разработка», «сокет», «декоратор» представить в строковом формате и проверить тип и содержание соответствующих переменных. Затем с помощью онлайн-конвертера преобразовать строковые представление в формат Unicode и также проверить тип и содержимое переменных."
   ]
  },
  {
   "cell_type": "code",
   "execution_count": 5,
   "metadata": {},
   "outputs": [
    {
     "data": {
      "text/plain": [
       "('разработка', str, 'сокет', str, 'декоратор', str)"
      ]
     },
     "execution_count": 5,
     "metadata": {},
     "output_type": "execute_result"
    }
   ],
   "source": [
    "word1 = \"разработка\"\n",
    "word2 = \"сокет\"\n",
    "word3 = \"декоратор\"\n",
    "word1, type(word1), word2, type(word2), word3, type(word3)"
   ]
  },
  {
   "cell_type": "code",
   "execution_count": 12,
   "metadata": {},
   "outputs": [
    {
     "data": {
      "text/plain": [
       "(b'\\xd1\\x80\\xd0\\xb0\\xd0\\xb7\\xd1\\x80\\xd0\\xb0\\xd0\\xb1\\xd0\\xbe\\xd1\\x82\\xd0\\xba\\xd0\\xb0',\n",
       " b'\\xff\\xfe@\\x040\\x047\\x04@\\x040\\x041\\x04>\\x04B\\x04:\\x040\\x04',\n",
       " b'\\xf0\\xe0\\xe7\\xf0\\xe0\\xe1\\xee\\xf2\\xea\\xe0')"
      ]
     },
     "execution_count": 12,
     "metadata": {},
     "output_type": "execute_result"
    }
   ],
   "source": [
    "word1.encode('utf-8'), word1.encode('utf-16'), word1.encode('cp1251')"
   ]
  },
  {
   "cell_type": "code",
   "execution_count": 14,
   "metadata": {},
   "outputs": [],
   "source": [
    "import chardet"
   ]
  },
  {
   "cell_type": "code",
   "execution_count": 21,
   "metadata": {},
   "outputs": [
    {
     "data": {
      "text/plain": [
       "('windows-1251', bytes)"
      ]
     },
     "execution_count": 21,
     "metadata": {},
     "output_type": "execute_result"
    }
   ],
   "source": [
    "bword1 = word1.encode('cp1251')\n",
    "code = chardet.detect(bword1)['encoding']\n",
    "code, type(bword1)"
   ]
  },
  {
   "cell_type": "code",
   "execution_count": 20,
   "metadata": {},
   "outputs": [
    {
     "data": {
      "text/plain": [
       "'разработка'"
      ]
     },
     "execution_count": 20,
     "metadata": {},
     "output_type": "execute_result"
    }
   ],
   "source": [
    "bword1.decode(code)"
   ]
  },
  {
   "cell_type": "markdown",
   "metadata": {},
   "source": [
    "#### Каждое из слов «class», «function», «method» записать в байтовом типе без преобразования в последовательность кодов (не используя методы encode и decode) и определить тип, содержимое и длину соответствующих переменных."
   ]
  },
  {
   "cell_type": "code",
   "execution_count": 27,
   "metadata": {},
   "outputs": [
    {
     "data": {
      "text/plain": [
       "(b'class', bytes, 5, b'function', bytes, 8, b'method', bytes, 6)"
      ]
     },
     "execution_count": 27,
     "metadata": {},
     "output_type": "execute_result"
    }
   ],
   "source": [
    "word4 = b'class'\n",
    "word5 = b'function'\n",
    "word6 = b'method'\n",
    "word4, type(word4), len(word4), word5, type(word5), len(word5), word6, type(word6), len(word6)"
   ]
  },
  {
   "cell_type": "markdown",
   "metadata": {},
   "source": [
    "#### Определить, какие из слов «attribute», «класс», «функция», «type» невозможно записать в байтовом типе."
   ]
  },
  {
   "cell_type": "code",
   "execution_count": 35,
   "metadata": {},
   "outputs": [
    {
     "name": "stdout",
     "output_type": "stream",
     "text": [
      "b'attribute'\n",
      "\"класс\" contain non ASCII char(s) b'\\\\N{CYRILLIC SMALL LETTER KA}\\\\N{CYRILLIC SMALL LETTER EL}\\\\N{CYRILLIC SMALL LETTER A}\\\\N{CYRILLIC SMALL LETTER ES}\\\\N{CYRILLIC SMALL LETTER ES}'\n",
      "\"функция\" contain non ASCII char(s) b'\\\\N{CYRILLIC SMALL LETTER EF}\\\\N{CYRILLIC SMALL LETTER U}\\\\N{CYRILLIC SMALL LETTER EN}\\\\N{CYRILLIC SMALL LETTER KA}\\\\N{CYRILLIC SMALL LETTER TSE}\\\\N{CYRILLIC SMALL LETTER I}\\\\N{CYRILLIC SMALL LETTER YA}'\n",
      "b'type'\n"
     ]
    }
   ],
   "source": [
    "words = [\"attribute\", \"класс\", \"функция\", \"type\"]\n",
    "for word in words:\n",
    "    if len(word.encode('ASCII', 'ignore')) != len(word):\n",
    "        print(f'\"{word}\" contain non ASCII char(s)', word.encode('ASCII', 'namereplace'))\n",
    "    else:\n",
    "        print(word.encode())    "
   ]
  },
  {
   "cell_type": "markdown",
   "metadata": {},
   "source": [
    "#### Преобразовать слова «разработка», «администрирование», «protocol», «standard» из строкового представления в байтовое и выполнить обратное преобразование (используя методы encode и decode)."
   ]
  },
  {
   "cell_type": "code",
   "execution_count": 38,
   "metadata": {},
   "outputs": [
    {
     "name": "stdout",
     "output_type": "stream",
     "text": [
      "\"разработка\" - b'\\xd1\\x80\\xd0\\xb0\\xd0\\xb7\\xd1\\x80\\xd0\\xb0\\xd0\\xb1\\xd0\\xbe\\xd1\\x82\\xd0\\xba\\xd0\\xb0' - разработка\n",
      "\n",
      "\"администрирование\" - b'\\xd0\\xb0\\xd0\\xb4\\xd0\\xbc\\xd0\\xb8\\xd0\\xbd\\xd0\\xb8\\xd1\\x81\\xd1\\x82\\xd1\\x80\\xd0\\xb8\\xd1\\x80\\xd0\\xbe\\xd0\\xb2\\xd0\\xb0\\xd0\\xbd\\xd0\\xb8\\xd0\\xb5' - администрирование\n",
      "\n",
      "\"protocol\" - b'protocol' - protocol\n",
      "\n",
      "\"standard\" - b'standard' - standard\n",
      "\n"
     ]
    }
   ],
   "source": [
    "words = ['разработка', 'администрирование', 'protocol', 'standard']\n",
    "\n",
    "for word in words:\n",
    "    print(f'\"{word}\" - {word.encode()} - {word.encode().decode()}', end='\\n\\n')"
   ]
  },
  {
   "cell_type": "markdown",
   "metadata": {},
   "source": [
    "#### Выполнить пинг веб-ресурсов yandex.ru, youtube.com и преобразовать результаты из байтовового в строковый тип на кириллице"
   ]
  },
  {
   "cell_type": "code",
   "execution_count": 72,
   "metadata": {},
   "outputs": [
    {
     "name": "stdout",
     "output_type": "stream",
     "text": [
      "Ping request could not find host яндекс.рф. Please check the name and try again.\n",
      "\n",
      "\n",
      "\n",
      "Pinging google.com [216.58.215.78] with 32 bytes of data:\n",
      "\n",
      "Reply from 216.58.215.78: bytes=32 time=31ms TTL=53\n",
      "\n",
      "Reply from 216.58.215.78: bytes=32 time=31ms TTL=53\n",
      "\n",
      "Reply from 216.58.215.78: bytes=32 time=31ms TTL=53\n",
      "\n",
      "Reply from 216.58.215.78: bytes=32 time=31ms TTL=53\n",
      "\n",
      "\n",
      "\n",
      "Ping statistics for 216.58.215.78:\n",
      "\n",
      "    Packets: Sent = 4, Received = 4, Lost = 0 (0% loss),\n",
      "\n",
      "Approximate round trip times in milli-seconds:\n",
      "\n",
      "    Minimum = 31ms, Maximum = 31ms, Average = 31ms\n",
      "\n"
     ]
    }
   ],
   "source": [
    "import subprocess\n",
    "import locale\n",
    "\n",
    "sites = [\"яндекс.рф\", \"google.com\"]\n",
    "\n",
    "for site in sites:\n",
    "    args = ['ping', site]\n",
    "\n",
    "    subroc_ping = subprocess.Popen(args, stdout=subprocess.PIPE)\n",
    "    for line in subroc_ping.stdout:\n",
    "        _l = line[:]\n",
    "    #print(chardet.detect(_l)['encoding'], _l, _l.decode(chardet.detect(_l)['encoding']))\n",
    "        _l = _l.decode(chardet.detect(_l)['encoding']).encode('utf-8')\n",
    "        print(_l.decode('utf-8'))"
   ]
  },
  {
   "cell_type": "code",
   "execution_count": 63,
   "metadata": {},
   "outputs": [
    {
     "data": {
      "text/plain": [
       "{'encoding': 'utf-8', 'confidence': 0.99, 'language': ''}"
      ]
     },
     "execution_count": 63,
     "metadata": {},
     "output_type": "execute_result"
    }
   ],
   "source": [
    "chardet.detect(\"Ping request could not find host яндекс.рф. Please check the name and try again.\".encode())"
   ]
  },
  {
   "cell_type": "code",
   "execution_count": 67,
   "metadata": {},
   "outputs": [
    {
     "data": {
      "text/plain": [
       "'cp1251'"
      ]
     },
     "execution_count": 67,
     "metadata": {},
     "output_type": "execute_result"
    }
   ],
   "source": [
    "locale.getpreferredencoding()"
   ]
  },
  {
   "cell_type": "markdown",
   "metadata": {},
   "source": [
    "#### Создать текстовый файл test_file.txt, заполнить его тремя строками: «сетевое программирование», «сокет», «декоратор». Проверить кодировку файла по умолчанию. Принудительно открыть файл в формате Unicode и вывести его содержимое."
   ]
  },
  {
   "cell_type": "code",
   "execution_count": 80,
   "metadata": {},
   "outputs": [
    {
     "name": "stdout",
     "output_type": "stream",
     "text": [
      "<_io.TextIOWrapper name='test_file.txt' mode='w' encoding='cp1251'>\n"
     ]
    },
    {
     "data": {
      "text/plain": [
       "'cp1251'"
      ]
     },
     "execution_count": 80,
     "metadata": {},
     "output_type": "execute_result"
    }
   ],
   "source": [
    "strs = [\"сетевое программирование\", \"сокет\", \"декоратор\"]\n",
    "\n",
    "with open(\"test_file.txt\", 'w') as test_file:\n",
    "    for el_str in strs: \n",
    "        test_file.write(f'{el_str}\\n')\n",
    "    print(test_file)\n",
    "locale.getpreferredencoding()"
   ]
  },
  {
   "cell_type": "code",
   "execution_count": 82,
   "metadata": {},
   "outputs": [
    {
     "ename": "UnicodeDecodeError",
     "evalue": "'utf-8' codec can't decode byte 0xf1 in position 0: invalid continuation byte",
     "output_type": "error",
     "traceback": [
      "\u001b[1;31m---------------------------------------------------------------------------\u001b[0m",
      "\u001b[1;31mUnicodeDecodeError\u001b[0m                        Traceback (most recent call last)",
      "\u001b[1;32m<ipython-input-82-b90f07abac7e>\u001b[0m in \u001b[0;36m<module>\u001b[1;34m\u001b[0m\n\u001b[0;32m      1\u001b[0m \u001b[1;32mwith\u001b[0m \u001b[0mopen\u001b[0m\u001b[1;33m(\u001b[0m\u001b[1;34m\"test_file.txt\"\u001b[0m\u001b[1;33m,\u001b[0m \u001b[1;34m'r'\u001b[0m\u001b[1;33m,\u001b[0m \u001b[0mencoding\u001b[0m\u001b[1;33m=\u001b[0m\u001b[1;34m'utf-8'\u001b[0m\u001b[1;33m)\u001b[0m \u001b[1;32mas\u001b[0m \u001b[0mtest_file\u001b[0m\u001b[1;33m:\u001b[0m\u001b[1;33m\u001b[0m\u001b[1;33m\u001b[0m\u001b[0m\n\u001b[1;32m----> 2\u001b[1;33m     \u001b[1;32mfor\u001b[0m \u001b[0mel_str\u001b[0m \u001b[1;32min\u001b[0m \u001b[0mtest_file\u001b[0m\u001b[1;33m:\u001b[0m\u001b[1;33m\u001b[0m\u001b[1;33m\u001b[0m\u001b[0m\n\u001b[0m\u001b[0;32m      3\u001b[0m         \u001b[0mprint\u001b[0m\u001b[1;33m(\u001b[0m\u001b[0mel_str\u001b[0m\u001b[1;33m)\u001b[0m\u001b[1;33m\u001b[0m\u001b[1;33m\u001b[0m\u001b[0m\n",
      "\u001b[1;32mc:\\python2\\venv\\lib\\codecs.py\u001b[0m in \u001b[0;36mdecode\u001b[1;34m(self, input, final)\u001b[0m\n\u001b[0;32m    320\u001b[0m         \u001b[1;31m# decode input (taking the buffer into account)\u001b[0m\u001b[1;33m\u001b[0m\u001b[1;33m\u001b[0m\u001b[1;33m\u001b[0m\u001b[0m\n\u001b[0;32m    321\u001b[0m         \u001b[0mdata\u001b[0m \u001b[1;33m=\u001b[0m \u001b[0mself\u001b[0m\u001b[1;33m.\u001b[0m\u001b[0mbuffer\u001b[0m \u001b[1;33m+\u001b[0m \u001b[0minput\u001b[0m\u001b[1;33m\u001b[0m\u001b[1;33m\u001b[0m\u001b[0m\n\u001b[1;32m--> 322\u001b[1;33m         \u001b[1;33m(\u001b[0m\u001b[0mresult\u001b[0m\u001b[1;33m,\u001b[0m \u001b[0mconsumed\u001b[0m\u001b[1;33m)\u001b[0m \u001b[1;33m=\u001b[0m \u001b[0mself\u001b[0m\u001b[1;33m.\u001b[0m\u001b[0m_buffer_decode\u001b[0m\u001b[1;33m(\u001b[0m\u001b[0mdata\u001b[0m\u001b[1;33m,\u001b[0m \u001b[0mself\u001b[0m\u001b[1;33m.\u001b[0m\u001b[0merrors\u001b[0m\u001b[1;33m,\u001b[0m \u001b[0mfinal\u001b[0m\u001b[1;33m)\u001b[0m\u001b[1;33m\u001b[0m\u001b[1;33m\u001b[0m\u001b[0m\n\u001b[0m\u001b[0;32m    323\u001b[0m         \u001b[1;31m# keep undecoded input until the next call\u001b[0m\u001b[1;33m\u001b[0m\u001b[1;33m\u001b[0m\u001b[1;33m\u001b[0m\u001b[0m\n\u001b[0;32m    324\u001b[0m         \u001b[0mself\u001b[0m\u001b[1;33m.\u001b[0m\u001b[0mbuffer\u001b[0m \u001b[1;33m=\u001b[0m \u001b[0mdata\u001b[0m\u001b[1;33m[\u001b[0m\u001b[0mconsumed\u001b[0m\u001b[1;33m:\u001b[0m\u001b[1;33m]\u001b[0m\u001b[1;33m\u001b[0m\u001b[1;33m\u001b[0m\u001b[0m\n",
      "\u001b[1;31mUnicodeDecodeError\u001b[0m: 'utf-8' codec can't decode byte 0xf1 in position 0: invalid continuation byte"
     ]
    }
   ],
   "source": [
    "with open(\"test_file.txt\", 'r', encoding='utf-8') as test_file:\n",
    "    for el_str in test_file:\n",
    "        print(el_str)"
   ]
  },
  {
   "cell_type": "code",
   "execution_count": null,
   "metadata": {},
   "outputs": [],
   "source": []
  }
 ],
 "metadata": {
  "kernelspec": {
   "display_name": "Python 3",
   "language": "python",
   "name": "python3"
  },
  "language_info": {
   "codemirror_mode": {
    "name": "ipython",
    "version": 3
   },
   "file_extension": ".py",
   "mimetype": "text/x-python",
   "name": "python",
   "nbconvert_exporter": "python",
   "pygments_lexer": "ipython3",
   "version": "3.7.3"
  }
 },
 "nbformat": 4,
 "nbformat_minor": 2
}
