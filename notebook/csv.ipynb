{
 "cells": [
  {
   "cell_type": "code",
   "execution_count": 2,
   "metadata": {},
   "outputs": [
    {
     "name": "stdout",
     "output_type": "stream",
     "text": [
      "['head1', 'head2', 'head3']\n",
      "['val1', 'val2', 'val3']\n",
      "['val4', 'val5', 'val6']\n"
     ]
    }
   ],
   "source": [
    "import csv\n",
    "\n",
    "with open('data/read.csv') as file:\n",
    "    reader = csv.reader(file)\n",
    "    for row in reader:\n",
    "        print(row)"
   ]
  },
  {
   "cell_type": "code",
   "execution_count": 3,
   "metadata": {},
   "outputs": [
    {
     "name": "stdout",
     "output_type": "stream",
     "text": [
      "OrderedDict([('head1', 'val1'), ('head2', 'val2'), ('head3', 'val3')])\n",
      "OrderedDict([('head1', 'val4'), ('head2', 'val5'), ('head3', 'val6')])\n"
     ]
    }
   ],
   "source": [
    "import csv\n",
    "\n",
    "with open('data/read.csv') as file:\n",
    "    reader = csv.DictReader(file)\n",
    "    for row in reader:\n",
    "        print(row)"
   ]
  },
  {
   "cell_type": "code",
   "execution_count": 8,
   "metadata": {},
   "outputs": [],
   "source": [
    "import csv\n",
    "\n",
    "DATA = [\n",
    "    ['head1', 'head2', 'head3'],\n",
    "    ['val1', 'val2', 'val3'],\n",
    "    ['val4', 'val5', 'val6']\n",
    "]\n",
    "\n",
    "with open('data/write.csv', 'w', encoding='utf-8') as file:\n",
    "    writer = csv.writer(file)\n",
    "    for row in DATA:\n",
    "        writer.writerow(row)"
   ]
  },
  {
   "cell_type": "code",
   "execution_count": 15,
   "metadata": {},
   "outputs": [],
   "source": [
    "import csv\n",
    "DATA = [\n",
    "    {'header1':'val1', 'header2':'val2'},\n",
    "    {'header2':'val3', 'header1':'val4'}\n",
    "]\n",
    "\n",
    "headers = ('header1', 'header2')\n",
    "\n",
    "with open('data/write2.csv', 'w') as file:\n",
    "    writer = csv.DictWriter(file, fieldnames=headers)\n",
    "    writer.writeheader()\n",
    "    for row in DATA:\n",
    "        writer.writerow(row)"
   ]
  },
  {
   "cell_type": "code",
   "execution_count": null,
   "metadata": {},
   "outputs": [],
   "source": []
  }
 ],
 "metadata": {
  "kernelspec": {
   "display_name": "Python 3",
   "language": "python",
   "name": "python3"
  },
  "language_info": {
   "codemirror_mode": {
    "name": "ipython",
    "version": 3
   },
   "file_extension": ".py",
   "mimetype": "text/x-python",
   "name": "python",
   "nbconvert_exporter": "python",
   "pygments_lexer": "ipython3",
   "version": "3.7.3"
  }
 },
 "nbformat": 4,
 "nbformat_minor": 2
}
