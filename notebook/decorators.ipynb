{
 "cells": [
  {
   "cell_type": "code",
   "execution_count": 1,
   "metadata": {},
   "outputs": [
    {
     "name": "stdout",
     "output_type": "stream",
     "text": [
      "some text\n"
     ]
    }
   ],
   "source": [
    "variable = 'some text'\n",
    "\n",
    "def sample():\n",
    "    print(variable)\n",
    "\n",
    "sample()"
   ]
  },
  {
   "cell_type": "code",
   "execution_count": 2,
   "metadata": {},
   "outputs": [],
   "source": [
    "def sample(text, num):\n",
    "    return text * num"
   ]
  },
  {
   "cell_type": "code",
   "execution_count": 3,
   "metadata": {},
   "outputs": [],
   "source": [
    "def logged(func):\n",
    "    def wrapper(text, num):\n",
    "        result = func(text, num)\n",
    "        print(f\"log - {func.__name__}({text,num})={result}\")\n",
    "        return result\n",
    "    return wrapper"
   ]
  },
  {
   "cell_type": "code",
   "execution_count": 4,
   "metadata": {},
   "outputs": [
    {
     "name": "stdout",
     "output_type": "stream",
     "text": [
      "log - sample(('hello', 3))=hellohellohello\n"
     ]
    },
    {
     "data": {
      "text/plain": [
       "'hellohellohello'"
      ]
     },
     "execution_count": 4,
     "metadata": {},
     "output_type": "execute_result"
    }
   ],
   "source": [
    "sample2 = logged(sample)\n",
    "sample2('hello', 3)"
   ]
  },
  {
   "cell_type": "code",
   "execution_count": 5,
   "metadata": {},
   "outputs": [
    {
     "name": "stdout",
     "output_type": "stream",
     "text": [
      "log - sample(('hello', 3))=hellohellohello\n"
     ]
    },
    {
     "data": {
      "text/plain": [
       "'hellohellohello'"
      ]
     },
     "execution_count": 5,
     "metadata": {},
     "output_type": "execute_result"
    }
   ],
   "source": [
    "@logged\n",
    "def sample(text, num):\n",
    "    return text * num\n",
    "\n",
    "sample('hello', 3)"
   ]
  },
  {
   "cell_type": "code",
   "execution_count": 6,
   "metadata": {},
   "outputs": [],
   "source": [
    "def delimited(func):\n",
    "    def wrapper(*args, **kwargs):\n",
    "        print('\\n', '*' * 15, '\\n')\n",
    "        return func(*args, **kwargs)\n",
    "    return wrapper"
   ]
  },
  {
   "cell_type": "code",
   "execution_count": 7,
   "metadata": {},
   "outputs": [
    {
     "name": "stdout",
     "output_type": "stream",
     "text": [
      "\n",
      " *************** \n",
      "\n",
      "log - wrapper(('hello', 3))=hellohellohello\n"
     ]
    },
    {
     "data": {
      "text/plain": [
       "'hellohellohello'"
      ]
     },
     "execution_count": 7,
     "metadata": {},
     "output_type": "execute_result"
    }
   ],
   "source": [
    "@logged\n",
    "@delimited\n",
    "def sample(text, num):\n",
    "    return text * num\n",
    "\n",
    "sample('hello', 3)"
   ]
  },
  {
   "cell_type": "code",
   "execution_count": 9,
   "metadata": {},
   "outputs": [
    {
     "name": "stdout",
     "output_type": "stream",
     "text": [
      "\n",
      " *************** \n",
      "\n",
      "log - wrapper(('test', 5))=testtesttesttesttest\n"
     ]
    },
    {
     "data": {
      "text/plain": [
       "'testtesttesttesttest'"
      ]
     },
     "execution_count": 9,
     "metadata": {},
     "output_type": "execute_result"
    }
   ],
   "source": [
    "def sample(text, num):\n",
    "    return text * num\n",
    "\n",
    "sample2 = logged(\n",
    "    delimited(\n",
    "        sample\n",
    "    )\n",
    ")\n",
    "\n",
    "sample2('test', 5)"
   ]
  },
  {
   "cell_type": "code",
   "execution_count": 10,
   "metadata": {},
   "outputs": [],
   "source": [
    "def logged(log_format):\n",
    "    def decorator(func):\n",
    "        def wrapper(text, num):\n",
    "            result = func(text, num)\n",
    "            name = func.__name__\n",
    "            args = ','.join((text, str(num)))\n",
    "            print(log_format % {'name': name, 'args': args, 'result':result})\n",
    "            return result\n",
    "        return wrapper\n",
    "    return decorator"
   ]
  },
  {
   "cell_type": "code",
   "execution_count": 12,
   "metadata": {},
   "outputs": [
    {
     "name": "stdout",
     "output_type": "stream",
     "text": [
      "sample(text,3) = texttexttext\n"
     ]
    },
    {
     "data": {
      "text/plain": [
       "'texttexttext'"
      ]
     },
     "execution_count": 12,
     "metadata": {},
     "output_type": "execute_result"
    }
   ],
   "source": [
    "@logged('%(name)s(%(args)s) = %(result)s')\n",
    "def sample(text, num):\n",
    "    return text * num\n",
    "sample('text', 3)"
   ]
  },
  {
   "cell_type": "code",
   "execution_count": 15,
   "metadata": {},
   "outputs": [],
   "source": [
    "from functools import wraps\n",
    "\n",
    "def logged(log_format):\n",
    "    def decorator(func):\n",
    "        @wraps(func)\n",
    "        def wrapper(text, num):\n",
    "            result = func(text, num)\n",
    "            name = func.__name__\n",
    "            args = ','.join((text, str(num)))\n",
    "            print(log_format % {'name': name, 'args': args, 'result':result})\n",
    "            return result\n",
    "        return wrapper\n",
    "    return decorator"
   ]
  },
  {
   "cell_type": "code",
   "execution_count": 16,
   "metadata": {},
   "outputs": [
    {
     "data": {
      "text/plain": [
       "'sample'"
      ]
     },
     "execution_count": 16,
     "metadata": {},
     "output_type": "execute_result"
    }
   ],
   "source": [
    "@logged('%(name)s(%(args)s) = %(result)s')\n",
    "def sample(text, num):\n",
    "    return text * num\n",
    "\n",
    "sample.__name__"
   ]
  },
  {
   "cell_type": "code",
   "execution_count": null,
   "metadata": {},
   "outputs": [],
   "source": []
  }
 ],
 "metadata": {
  "kernelspec": {
   "display_name": "Python 3",
   "language": "python",
   "name": "python3"
  },
  "language_info": {
   "codemirror_mode": {
    "name": "ipython",
    "version": 3
   },
   "file_extension": ".py",
   "mimetype": "text/x-python",
   "name": "python",
   "nbconvert_exporter": "python",
   "pygments_lexer": "ipython3",
   "version": "3.7.3"
  }
 },
 "nbformat": 4,
 "nbformat_minor": 2
}
