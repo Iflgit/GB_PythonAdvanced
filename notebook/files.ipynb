{
 "cells": [
  {
   "cell_type": "code",
   "execution_count": 12,
   "metadata": {},
   "outputs": [
    {
     "data": {
      "text/plain": [
       "'hello world1\\n'"
      ]
     },
     "execution_count": 12,
     "metadata": {},
     "output_type": "execute_result"
    }
   ],
   "source": [
    "file = open('data/read.txt')\n",
    "\n",
    "file.readline()"
   ]
  },
  {
   "cell_type": "code",
   "execution_count": 13,
   "metadata": {},
   "outputs": [
    {
     "data": {
      "text/plain": [
       "'hello world2\\n'"
      ]
     },
     "execution_count": 13,
     "metadata": {},
     "output_type": "execute_result"
    }
   ],
   "source": [
    "file.readline()"
   ]
  },
  {
   "cell_type": "code",
   "execution_count": 10,
   "metadata": {},
   "outputs": [],
   "source": [
    "file.close()"
   ]
  },
  {
   "cell_type": "code",
   "execution_count": 14,
   "metadata": {},
   "outputs": [
    {
     "data": {
      "text/plain": [
       "<_io.TextIOWrapper name='data/read.txt' mode='r' encoding='cp1251'>"
      ]
     },
     "execution_count": 14,
     "metadata": {},
     "output_type": "execute_result"
    }
   ],
   "source": [
    "file"
   ]
  },
  {
   "cell_type": "code",
   "execution_count": 16,
   "metadata": {},
   "outputs": [
    {
     "name": "stdout",
     "output_type": "stream",
     "text": [
      "['hello world1\\n']\n",
      "['hello world2\\n', 'hello world3\\n', 'hello world4\\n']\n",
      "['\\n', 'hello world1\\n', 'hello world2\\n', 'hello world3\\n', 'hello world4\\n', '\\n', 'hello world1\\n']\n"
     ]
    }
   ],
   "source": [
    "file = open('data/read.txt')\n",
    "\n",
    "print(file.readlines(1))\n",
    "print(file.readlines(32))\n",
    "print(file.readlines(64))\n",
    "\n",
    "file.close()"
   ]
  },
  {
   "cell_type": "code",
   "execution_count": 17,
   "metadata": {},
   "outputs": [
    {
     "name": "stdout",
     "output_type": "stream",
     "text": [
      "hello world1\n",
      "hello world2\n",
      "hello world3\n",
      "hello world4\n",
      "\n",
      "hello world1\n",
      "hello world2\n",
      "hello world3\n",
      "hello world4\n",
      "\n",
      "hello world1\n",
      "hello world2\n",
      "hello world3\n",
      "hello world4\n"
     ]
    }
   ],
   "source": [
    "file = open('data/read.txt')\n",
    "\n",
    "print(file.read())\n",
    "\n",
    "file.close()"
   ]
  },
  {
   "cell_type": "code",
   "execution_count": 21,
   "metadata": {},
   "outputs": [
    {
     "name": "stdout",
     "output_type": "stream",
     "text": [
      "hello world1\n",
      "hello world2\n",
      "hello world3\n",
      "hello world4\n",
      "\n",
      "hello world1\n",
      "hello world2\n",
      "hello world3\n",
      "hello world4\n",
      "\n",
      "hello world1\n",
      "hello world2\n",
      "hello world3\n",
      "hello world4"
     ]
    }
   ],
   "source": [
    "with open('data/read.txt') as file:\n",
    "    for row in file:\n",
    "        print(row, end='')"
   ]
  },
  {
   "cell_type": "code",
   "execution_count": 28,
   "metadata": {},
   "outputs": [],
   "source": [
    "with open('data/write.txt', 'w') as file:\n",
    "    file.write('Hello world1\\n')"
   ]
  },
  {
   "cell_type": "code",
   "execution_count": 29,
   "metadata": {},
   "outputs": [],
   "source": [
    "with open('data/write.txt', 'a') as file:\n",
    "    file.write('Hello world2\\n')"
   ]
  },
  {
   "cell_type": "code",
   "execution_count": 34,
   "metadata": {},
   "outputs": [
    {
     "name": "stdout",
     "output_type": "stream",
     "text": [
      "enter!\n",
      "enter\n",
      "exit!\n"
     ]
    }
   ],
   "source": [
    "class SampleContextManager:\n",
    "    def __enter__(self):\n",
    "        print('enter!')\n",
    "        return 'enter'\n",
    "    \n",
    "    def __exit__(self, arr, *args, **kwargs):\n",
    "        print('exit!')\n",
    "        return 'exit'\n",
    "\n",
    "with SampleContextManager() as manager:\n",
    "    print(manager)"
   ]
  },
  {
   "cell_type": "code",
   "execution_count": 39,
   "metadata": {},
   "outputs": [
    {
     "name": "stdout",
     "output_type": "stream",
     "text": [
      "Hello world1\n",
      "Hello world2\n",
      "Hello world1\n",
      "Hello world2str1\n",
      "\n"
     ]
    }
   ],
   "source": [
    "with open('data/write.txt', 'r+') as file:\n",
    "    print(file.read())\n",
    "    file.writelines(['str1\\n'])\n",
    "    file.seek(0)\n",
    "    print(file.read())"
   ]
  },
  {
   "cell_type": "code",
   "execution_count": 41,
   "metadata": {},
   "outputs": [
    {
     "name": "stdout",
     "output_type": "stream",
     "text": [
      "b'Hello world1\\r\\nHello world2str1\\r\\n'\n",
      "b'Hello world1\\r\\nHello world2str1\\r\\nnew string\\n'\n"
     ]
    }
   ],
   "source": [
    "with open('data/write.txt', 'rb+') as file:\n",
    "    print(file.read())\n",
    "    file.writelines([b'new string\\n'])\n",
    "    file.seek(0)\n",
    "    print(file.read())"
   ]
  },
  {
   "cell_type": "code",
   "execution_count": 42,
   "metadata": {},
   "outputs": [
    {
     "data": {
      "text/plain": [
       "os.stat_result(st_mode=33206, st_ino=4785074604168855, st_dev=2192070010, st_nlink=1, st_uid=0, st_gid=0, st_size=43, st_atime=1563968190, st_mtime=1563968190, st_ctime=1563966966)"
      ]
     },
     "execution_count": 42,
     "metadata": {},
     "output_type": "execute_result"
    }
   ],
   "source": [
    "import os\n",
    "\n",
    "os.stat('data/write.txt')"
   ]
  },
  {
   "cell_type": "code",
   "execution_count": 47,
   "metadata": {},
   "outputs": [],
   "source": [
    "file_size = os.stat('data/write.txt').st_size\n",
    "file_middle = file_size // 2\n",
    "file_middle\n",
    "\n",
    "with open('data/write.txt', 'r+') as file:\n",
    "    file.seek(file_middle)\n",
    "    file.writelines(['\\n\\n\\n\\n'])"
   ]
  },
  {
   "cell_type": "code",
   "execution_count": 54,
   "metadata": {},
   "outputs": [
    {
     "name": "stdout",
     "output_type": "stream",
     "text": [
      "Hello world1\n",
      "Hello w\n",
      "\n",
      "\n",
      "\n",
      "1\n",
      "new string\n",
      "С‚РµСЃС‚\n"
     ]
    }
   ],
   "source": [
    "with open('data/write.txt', encoding='cp1251') as file:\n",
    "    print(file.read())"
   ]
  },
  {
   "cell_type": "code",
   "execution_count": null,
   "metadata": {},
   "outputs": [],
   "source": []
  }
 ],
 "metadata": {
  "kernelspec": {
   "display_name": "Python 3",
   "language": "python",
   "name": "python3"
  },
  "language_info": {
   "codemirror_mode": {
    "name": "ipython",
    "version": 3
   },
   "file_extension": ".py",
   "mimetype": "text/x-python",
   "name": "python",
   "nbconvert_exporter": "python",
   "pygments_lexer": "ipython3",
   "version": "3.7.3"
  }
 },
 "nbformat": 4,
 "nbformat_minor": 2
}
