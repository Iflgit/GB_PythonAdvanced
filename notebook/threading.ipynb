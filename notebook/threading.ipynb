{
 "cells": [
  {
   "cell_type": "code",
   "execution_count": 1,
   "metadata": {},
   "outputs": [],
   "source": [
    "import time\n",
    "import threading\n",
    "import multiprocessing"
   ]
  },
  {
   "cell_type": "code",
   "execution_count": 2,
   "metadata": {},
   "outputs": [],
   "source": [
    "def sample(text, num):\n",
    "    for idx in range(1, num+1):\n",
    "        time.sleep(1)\n",
    "        print(f'{text} was called {idx} times')"
   ]
  },
  {
   "cell_type": "code",
   "execution_count": 3,
   "metadata": {},
   "outputs": [],
   "source": [
    "THREADS_NUMBER = 5"
   ]
  },
  {
   "cell_type": "code",
   "execution_count": 4,
   "metadata": {},
   "outputs": [
    {
     "name": "stdout",
     "output_type": "stream",
     "text": [
      "cell-3 was called 1 times\n",
      "cell-3 was called 2 times\n",
      "cell-3 was called 3 times\n",
      "cell-3 was called 4 times\n",
      "cell-3 was called 5 times\n",
      "cell-3 was called 6 times\n"
     ]
    }
   ],
   "source": [
    "sample('cell-3', 6)"
   ]
  },
  {
   "cell_type": "code",
   "execution_count": 5,
   "metadata": {},
   "outputs": [
    {
     "name": "stdout",
     "output_type": "stream",
     "text": [
      "cell-4 was called 1 times\n",
      "thread-1 was called 1 times\n",
      "cell-4 was called 2 times\n",
      "thread-1 was called 2 times\n",
      "cell-4 was called 3 times\n",
      "thread-1 was called 3 times\n",
      "cell-4 was called 4 times\n",
      "thread-1 was called 4 times\n",
      "cell-4 was called 5 times\n"
     ]
    }
   ],
   "source": [
    "thread = threading.Thread(target=sample, args={'thread-1', 10})\n",
    "thread.start()\n",
    "sample('cell-4', 5)"
   ]
  },
  {
   "cell_type": "code",
   "execution_count": 6,
   "metadata": {},
   "outputs": [
    {
     "name": "stdout",
     "output_type": "stream",
     "text": [
      "thread-1 was called 5 times\n"
     ]
    },
    {
     "name": "stderr",
     "output_type": "stream",
     "text": [
      "Exception in thread Thread-9:\n",
      "Traceback (most recent call last):\n",
      "  File \"D:\\shared_folder\\Python\\python373\\App\\Python\\lib\\threading.py\", line 917, in _bootstrap_inner\n",
      "    self.run()\n",
      "  File \"D:\\shared_folder\\Python\\python373\\App\\Python\\lib\\threading.py\", line 865, in run\n",
      "    self._target(*self._args, **self._kwargs)\n",
      "  File \"<ipython-input-2-75a2b822a846>\", line 2, in sample\n",
      "    for idx in range(1, num+1):\n",
      "TypeError: can only concatenate str (not \"int\") to str\n",
      "\n"
     ]
    }
   ],
   "source": [
    "for i in range(THREADS_NUMBER):\n",
    "    num = 3 + i\n",
    "    text = f'thread-{i + 1}'\n",
    "    thread = threading.Thread(target=sample, args={text, num})\n",
    "    thread.start()"
   ]
  },
  {
   "cell_type": "code",
   "execution_count": 7,
   "metadata": {},
   "outputs": [],
   "source": [
    "lock = threading.Lock()\n",
    "\n",
    "def sample(text, num):\n",
    "    for idx in range(1, num + 1):\n",
    "        time.sleep(1)\n",
    "        lock.acquire()\n",
    "        print(f'{text} was called {idx} times')\n",
    "        lock.release()"
   ]
  },
  {
   "cell_type": "code",
   "execution_count": 8,
   "metadata": {},
   "outputs": [
    {
     "name": "stdout",
     "output_type": "stream",
     "text": [
      "thread-1 was called 1 timesthread-1 was called 6 times\n",
      "\n",
      "thread-2 was called 1 times\n",
      "thread-4 was called 1 times\n",
      "thread-5 was called 1 times\n",
      "cell-4 was called 1 times\n",
      "thread-1 was called 1 times\n",
      "thread-1 was called 7 timesthread-1 was called 2 times\n",
      "\n",
      "thread-2 was called 2 times\n",
      "thread-4 was called 2 times\n",
      "thread-5 was called 2 times\n",
      "cell-4 was called 2 times\n"
     ]
    }
   ],
   "source": [
    "thread = threading.Thread(target=sample, args={'thread-1', 4})\n",
    "thread.start()\n",
    "sample('cell-4', 2)"
   ]
  },
  {
   "cell_type": "code",
   "execution_count": 10,
   "metadata": {},
   "outputs": [],
   "source": [
    "def sample3(text):\n",
    "    idx =1000\n",
    "    while idx:\n",
    "        idx =- 1\n",
    "    print(f'{text} done')"
   ]
  },
  {
   "cell_type": "code",
   "execution_count": 19,
   "metadata": {},
   "outputs": [],
   "source": [
    "process = multiprocessing.Process(target=sample3, args=('process',))\n",
    "process.start()\n",
    "\n",
    "thread = threading.Thread(target=sample3, args={'thread'})\n",
    "thread.start()\n"
   ]
  },
  {
   "cell_type": "code",
   "execution_count": 20,
   "metadata": {},
   "outputs": [
    {
     "data": {
      "text/plain": [
       "<Process(Process-12, started)>"
      ]
     },
     "execution_count": 20,
     "metadata": {},
     "output_type": "execute_result"
    }
   ],
   "source": [
    "process = multiprocessing.Process(target=sample3, args=('process',))\n",
    "process.start()\n",
    "process"
   ]
  },
  {
   "cell_type": "code",
   "execution_count": 21,
   "metadata": {},
   "outputs": [
    {
     "data": {
      "text/plain": [
       "<Process(Process-12, stopped[1])>"
      ]
     },
     "execution_count": 21,
     "metadata": {},
     "output_type": "execute_result"
    }
   ],
   "source": [
    "process"
   ]
  },
  {
   "cell_type": "code",
   "execution_count": null,
   "metadata": {},
   "outputs": [],
   "source": []
  }
 ],
 "metadata": {
  "kernelspec": {
   "display_name": "Python 3",
   "language": "python",
   "name": "python3"
  },
  "language_info": {
   "codemirror_mode": {
    "name": "ipython",
    "version": 3
   },
   "file_extension": ".py",
   "mimetype": "text/x-python",
   "name": "python",
   "nbconvert_exporter": "python",
   "pygments_lexer": "ipython3",
   "version": "3.7.3"
  }
 },
 "nbformat": 4,
 "nbformat_minor": 2
}
