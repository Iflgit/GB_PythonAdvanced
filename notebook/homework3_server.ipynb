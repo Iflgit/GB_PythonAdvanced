{
 "cells": [
  {
   "cell_type": "code",
   "execution_count": 1,
   "metadata": {},
   "outputs": [],
   "source": [
    "import socket"
   ]
  },
  {
   "cell_type": "code",
   "execution_count": 2,
   "metadata": {},
   "outputs": [],
   "source": [
    "config = {\n",
    "    'host': 'localhost',\n",
    "    'port': 8765,\n",
    "    'buffersize': 256,\n",
    "    'clients': 2\n",
    "}\n",
    "host, port, clients = config.get('host'), config.get('port'), config.get('clients')"
   ]
  },
  {
   "cell_type": "code",
   "execution_count": null,
   "metadata": {},
   "outputs": [
    {
     "name": "stdout",
     "output_type": "stream",
     "text": [
      "Server started on localhost:8765 and listen for max 2 clients\n",
      "Ctrl+C to quit.\n",
      "Clients connection accepted from 127.0.0.1:9153\n",
      "Client message: /qwerty/\n",
      "Ctrl+C to quit.\n",
      "Clients connection accepted from 127.0.0.1:9179\n",
      "Client message: /123/\n",
      "Ctrl+C to quit.\n"
     ]
    }
   ],
   "source": [
    "try:\n",
    "    srv_socket = socket.socket()\n",
    "    srv_socket.bind((host, port))\n",
    "    srv_socket.listen(config.get('clients'))\n",
    "    \n",
    "    print(f'Server started on {host}:{port} and listen for max {clients} clients')\n",
    "    while True:\n",
    "        print('Ctrl+C to quit.')\n",
    "        client, address = srv_socket.accept()\n",
    "        print(f'Clients connection accepted from {address[0]}:{address[1]}')\n",
    "        \n",
    "        client_request = client.recv(config.get('buffersize')).decode()\n",
    "        print(f'Client message: /{client_request}/')\n",
    "        \n",
    "        client.send((f'ECHO /{client_request}/ OK').encode())\n",
    "        client.close()\n",
    "except KeyboardInterrupt:\n",
    "    print('Server shuting down...')\n",
    "        "
   ]
  },
  {
   "cell_type": "code",
   "execution_count": null,
   "metadata": {},
   "outputs": [],
   "source": []
  }
 ],
 "metadata": {
  "kernelspec": {
   "display_name": "Python 3",
   "language": "python",
   "name": "python3"
  },
  "language_info": {
   "codemirror_mode": {
    "name": "ipython",
    "version": 3
   },
   "file_extension": ".py",
   "mimetype": "text/x-python",
   "name": "python",
   "nbconvert_exporter": "python",
   "pygments_lexer": "ipython3",
   "version": "3.7.3"
  }
 },
 "nbformat": 4,
 "nbformat_minor": 2
}
